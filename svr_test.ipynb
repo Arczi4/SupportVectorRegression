{
 "cells": [
  {
   "cell_type": "code",
   "execution_count": null,
   "metadata": {},
   "outputs": [],
   "source": [
    "import numpy as np\n",
    "import matplotlib.pyplot as plt\n",
    "from ai_project.models.support_vector_regression.svr import SVR\n",
    "from ai_project.common.data_manipulation.prepare_data import prepare_data\n",
    "import pandas as pd\n",
    "import os\n",
    "\n",
    "path = os.path.join('ai_project', 'data', 'processed', 'house_price.csv')\n",
    "\n",
    "data = pd.read_csv(path)\n",
    "\n",
    "x = data.iloc[:, 1:].to_numpy()\n",
    "\n",
    "x = prepare_data(x)\n",
    "y = data['SalePrice'].to_numpy()\n",
    "\n",
    "x_train = x[:-100, :]\n",
    "y_train = y[:-100]\n",
    "\n",
    "x_test = x[-100:, :]\n",
    "y_test = y[-100:]\n"
   ]
  },
  {
   "cell_type": "code",
   "execution_count": null,
   "metadata": {},
   "outputs": [],
   "source": [
    "data.describe().round()"
   ]
  },
  {
   "cell_type": "code",
   "execution_count": null,
   "metadata": {},
   "outputs": [],
   "source": [
    "model = SVR(epsilon=10000, loss_function='linear', kernel='linear')\n",
    "model.fit(x_train, y_train, n_iters=500, learning_rate=2000)\n",
    "predicted = [model.predict(np.array([x]))[0][0] for x in x_test]\n",
    "df = pd.DataFrame({'Actual': y_test, 'Predicted': predicted})\n",
    "df = df.round()\n",
    "df['Substract'] = df['Predicted'] - df['Actual']\n",
    "\n",
    "rmse = ((df['Predicted'] - df['Actual']) ** 2).mean() ** 0.5\n",
    "mae = ((df['Predicted'] - df['Actual']).abs()).mean()\n",
    "df.head(10)\n",
    "\n",
    "print(f'\\n\\nRMSE: {rmse:.2f}')\n",
    "print(f'MAE: {mae:.2f}')\n",
    "\n",
    "df.plot()"
   ]
  },
  {
   "cell_type": "code",
   "execution_count": null,
   "metadata": {},
   "outputs": [],
   "source": [
    "path = os.path.join('ai_project', 'data', 'processed', 'life_expectancy_data.csv')\n",
    "\n",
    "df = pd.read_csv(path)"
   ]
  },
  {
   "cell_type": "code",
   "execution_count": null,
   "metadata": {},
   "outputs": [],
   "source": [
    "df.describe()"
   ]
  },
  {
   "cell_type": "code",
   "execution_count": null,
   "metadata": {},
   "outputs": [],
   "source": [
    "import seaborn as sns\n",
    "# Correlation matrix\n",
    "corrmat = df.corr()\n",
    "f, ax = plt.subplots(figsize=(14,14))\n",
    "sns.heatmap(corrmat, vmax=0.8, square=True)"
   ]
  },
  {
   "cell_type": "code",
   "execution_count": null,
   "metadata": {},
   "outputs": [],
   "source": [
    "# Saleprice correlation matrix\n",
    "k = 10 # numbers of variables in heatmap\n",
    "cols = corrmat.nlargest(k, 'Life expectancy ')['Life expectancy '].index\n",
    "f, ax = plt.subplots(figsize=(10, 10))\n",
    "cm = np.corrcoef(df[cols].values.T)\n",
    "sns.set(font_scale=1.25)\n",
    "hm = sns.heatmap(cm, cbar=True, annot=True, square=True, fmt='.2f', annot_kws={'size': 10}, yticklabels=cols.values, xticklabels=cols.values)"
   ]
  },
  {
   "cell_type": "code",
   "execution_count": null,
   "metadata": {},
   "outputs": [],
   "source": [
    "cols"
   ]
  },
  {
   "cell_type": "code",
   "execution_count": null,
   "metadata": {},
   "outputs": [],
   "source": [
    "data = df[cols]"
   ]
  },
  {
   "cell_type": "code",
   "execution_count": null,
   "metadata": {},
   "outputs": [],
   "source": [
    "data.describe()"
   ]
  },
  {
   "cell_type": "code",
   "execution_count": null,
   "metadata": {},
   "outputs": [],
   "source": [
    "sns.displot(data[\"Life expectancy \"])"
   ]
  },
  {
   "cell_type": "code",
   "execution_count": null,
   "metadata": {},
   "outputs": [],
   "source": []
  },
  {
   "cell_type": "code",
   "execution_count": null,
   "metadata": {},
   "outputs": [],
   "source": [
    "x_label = 'Income composition of resources'\n",
    "data = pd.concat([data['Life expectancy '], data[x_label]], axis=1)\n",
    "data.plot.scatter(x=x_label, y='Life expectancy ', ylim=(0, 100))"
   ]
  },
  {
   "cell_type": "code",
   "execution_count": null,
   "metadata": {},
   "outputs": [],
   "source": [
    "data"
   ]
  },
  {
   "cell_type": "code",
   "execution_count": null,
   "metadata": {},
   "outputs": [],
   "source": [
    "x = data.iloc[:, 1:].to_numpy()\n",
    "\n",
    "x = prepare_data(x)\n",
    "y = data['Life expectancy '].to_numpy()\n",
    "\n",
    "x_train = x[:-100, :]\n",
    "y_train = y[:-100]\n",
    "\n",
    "x_test = x[-100:, :]\n",
    "y_test = y[-100:]"
   ]
  },
  {
   "cell_type": "code",
   "execution_count": null,
   "metadata": {},
   "outputs": [],
   "source": [
    "from sklearn.model_selection import train_test_split\n",
    "x_train, x_test, y_train, y_test = train_test_split(x, y, test_size=0.1)"
   ]
  },
  {
   "cell_type": "code",
   "execution_count": null,
   "metadata": {},
   "outputs": [],
   "source": [
    "model = SVR(epsilon=11, loss_function='linear', kernel='quadratic')\n",
    "model.fit(x_train, y_train, n_iters=500, learning_rate=0.5)\n",
    "predicted = [model.predict(np.array([x]))[0][0] for x in x_test]\n",
    "df = pd.DataFrame({'Actual': y_test, 'Predicted': predicted})\n",
    "df = df.round()\n",
    "df['Substract'] = df['Predicted'] - df['Actual']\n",
    "\n",
    "rmse = ((df['Predicted'] - df['Actual']) ** 2).mean() ** 0.5\n",
    "mae = ((df['Predicted'] - df['Actual']).abs()).mean()\n",
    "df.head(10)\n",
    "\n",
    "print(f'\\n\\nRMSE: {rmse:.2f}')\n",
    "print(f'MAE: {mae:.2f}')\n",
    "\n",
    "df.plot()"
   ]
  },
  {
   "cell_type": "code",
   "execution_count": null,
   "metadata": {},
   "outputs": [],
   "source": [
    "path = os.path.join('ai_project', 'data', 'processed', 'house_price.csv')\n",
    "\n",
    "data = pd.read_csv(path)"
   ]
  },
  {
   "cell_type": "code",
   "execution_count": null,
   "metadata": {},
   "outputs": [],
   "source": [
    "from sklearn.linear_model import LinearRegression\n",
    "\n",
    "train_test_split()"
   ]
  }
 ],
 "metadata": {
  "kernelspec": {
   "display_name": ".venv",
   "language": "python",
   "name": "python3"
  },
  "language_info": {
   "codemirror_mode": {
    "name": "ipython",
    "version": 3
   },
   "file_extension": ".py",
   "mimetype": "text/x-python",
   "name": "python",
   "nbconvert_exporter": "python",
   "pygments_lexer": "ipython3",
   "version": "3.10.9"
  },
  "orig_nbformat": 4,
  "vscode": {
   "interpreter": {
    "hash": "a7633627d077115575b006ddc2532a0bb94ec1cd39fffd6bc0a8048d16203041"
   }
  }
 },
 "nbformat": 4,
 "nbformat_minor": 2
}
